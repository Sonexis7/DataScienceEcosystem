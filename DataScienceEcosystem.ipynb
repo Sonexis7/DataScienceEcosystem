{
 "cells": [
  {
   "cell_type": "markdown",
   "id": "c966134e",
   "metadata": {},
   "source": [
    "# Data Science Tools and Ecosystem"
   ]
  },
  {
   "cell_type": "markdown",
   "id": "32a0815b",
   "metadata": {},
   "source": [
    "In this notebook, Data Science Tools and Ecosystem are summarized."
   ]
  },
  {
   "cell_type": "markdown",
   "id": "454ce3cc",
   "metadata": {},
   "source": [
    "__Objectives:__ \n",
    "- popular languages that Data Scientists use\n",
    "- commonly used libraries used by Data Scientists\n",
    "- arithmetic operations in python\n",
    "- Hour conversion"
   ]
  },
  {
   "cell_type": "markdown",
   "id": "dd746a92",
   "metadata": {},
   "source": [
    "Some of the popular languages that Data Scientists use are:\n",
    "1. python\n",
    "2. Julia\n",
    "3. Scala\n",
    "4. R"
   ]
  },
  {
   "cell_type": "markdown",
   "id": "fe18cde6",
   "metadata": {},
   "source": [
    "Some of the commonly used libraries used by Data Scientists include:\n",
    "1. Panda\n",
    "2. Numpy\n",
    "3. Matplotlib\n",
    "4. ggplot\n",
    "5. scikitlearn\n",
    "6. Tensorflow\n",
    "7. Keras"
   ]
  },
  {
   "cell_type": "markdown",
   "id": "8c4b2a09",
   "metadata": {},
   "source": [
    "| Data Science Tools |\n",
    "|--------------------|\n",
    "| R                  |\n",
    "| Python             |\n",
    "| Jupyter Notebook   |\n"
   ]
  },
  {
   "cell_type": "markdown",
   "id": "9337aa79",
   "metadata": {},
   "source": [
    "### Below are a few examples of evaluating arithmetic expressions in Python\n",
    "\n",
    "1. Addition\n",
    "result_addition = 10 + 5\n",
    "\n",
    "print(\"Addition:\", result_addition)  # Output: 15\n",
    "\n",
    "2. Subtraction\n",
    "result_subtraction = 20 - 8\n",
    "\n",
    "print(\"Subtraction:\", result_subtraction)  # Output: 12\n",
    "\n",
    "3. Multiplication\n",
    "result_multiplication = 6 * 4\n",
    "\n",
    "print(\"Multiplication:\", result_multiplication)  # Output: 24\n",
    "\n",
    "4. Division\n",
    "result_division = 30 / 5\n",
    "\n",
    "print(\"Division:\", result_division)  # Output: 6.0 "
   ]
  },
  {
   "cell_type": "code",
   "execution_count": 2,
   "id": "debbee07",
   "metadata": {},
   "outputs": [
    {
     "name": "stdout",
     "output_type": "stream",
     "text": [
      "17\n"
     ]
    }
   ],
   "source": [
    "#This a simple arithmetic expression to mutiply then add integers\n",
    "simp_arith = (3*4)+5\n",
    "print(simp_arith)"
   ]
  },
  {
   "cell_type": "code",
   "execution_count": 3,
   "id": "983330db",
   "metadata": {},
   "outputs": [
    {
     "name": "stdout",
     "output_type": "stream",
     "text": [
      "3.3333333333333335\n"
     ]
    }
   ],
   "source": [
    "#This will convert 200 minutes to hours by dividing by \n",
    "hour_conv = 200/60\n",
    "print(hour_conv)"
   ]
  },
  {
   "cell_type": "markdown",
   "id": "a8327d36",
   "metadata": {},
   "source": [
    "## Author\n",
    "Sunday Emmanuel"
   ]
  }
 ],
 "metadata": {
  "kernelspec": {
   "display_name": "Python 3 (ipykernel)",
   "language": "python",
   "name": "python3"
  },
  "language_info": {
   "codemirror_mode": {
    "name": "ipython",
    "version": 3
   },
   "file_extension": ".py",
   "mimetype": "text/x-python",
   "name": "python",
   "nbconvert_exporter": "python",
   "pygments_lexer": "ipython3",
   "version": "3.9.13"
  }
 },
 "nbformat": 4,
 "nbformat_minor": 5
}
